{
 "cells": [
  {
   "cell_type": "code",
   "execution_count": 1,
   "metadata": {},
   "outputs": [],
   "source": [
    "import matplotlib.pyplot as plt\n",
    "import jax\n",
    "import jax.numpy as jnp\n",
    "import numpy as np\n",
    "\n",
    "from jaxlayerlumos import stackrt_eps_mu\n",
    "from jaxlayerlumos import utils_materials"
   ]
  },
  {
   "cell_type": "code",
   "execution_count": null,
   "metadata": {},
   "outputs": [
    {
     "name": "stdout",
     "output_type": "stream",
     "text": [
      "Initial thicknesses (m): [0.       0.00018  0.000738 0.000918 0.000984 0.000114 0.      ]\n"
     ]
    }
   ],
   "source": [
    "# --- Demo configuration ---\n",
    "freq_range = (0.2, 2.0)  # GHz\n",
    "inc_angle = 0.0          # degrees\n",
    "\n",
    "# Frequency grid: from 0.2 GHz to 2.0 GHz (converted to Hz)\n",
    "frequencies = jnp.linspace(freq_range[0] * 1e9, freq_range[1] * 1e9, 100)\n",
    "freq_ghz = np.array(frequencies) / 1e9  # for plotting if needed\n",
    "\n",
    "# Define a sample design:\n",
    "# Materials: starting with \"Air\", then five internal layers, and ending with \"PEC\"\n",
    "design = {\n",
    "    \"materials_data\": [\"14\", \"8\", \"4\", \"4\", \"4\"],\n",
    "    \"thicknesses_mm\": [0.966, 1.002, 1.182, 0.984, 1.380],\n",
    "}\n",
    "\n",
    "# Create the full materials stack (boundary layers fixed)\n",
    "materials = [\"Air\"] + design[\"materials_data\"] + [\"PEC\"]\n",
    "\n",
    "# Convert thicknesses from mm to m and add boundaries (set to 0)\n",
    "thicknesses = jnp.array([0.0] + [x * 1e-3 for x in design[\"thicknesses_mm\"]] + [0.0])\n",
    "print(\"Initial thicknesses (m):\", thicknesses)\n",
    "\n",
    "# Get the effective permittivity and permeability for the stack.\n",
    "eps_stack, mu_stack = utils_materials.get_eps_mu(materials, frequencies)\n",
    "\n",
    "# Define an objective function that returns the maximum reflection in dB.\n",
    "# We want to see how the maximum reflection responds to changes in the internal thicknesses.\n",
    "def objective(thicknesses_internal):\n",
    "    # Reconstruct the full thickness vector (fixing boundaries at 0)\n",
    "    thicknesses_full = jnp.concatenate([jnp.array([0.0]), thicknesses_internal, jnp.array([0.0])])\n",
    "    \n",
    "    # Compute reflection coefficients at normal incidence.\n",
    "    R_TE, _, R_TM, _ = stackrt_eps_mu(eps_stack, mu_stack, thicknesses_full, frequencies, inc_angle)\n",
    "    R_linear = (R_TE + R_TM) / 2.0\n",
    "    \n",
    "    # Convert reflection to dB (with safeguard to avoid log10(0))\n",
    "    R_db = 10 * jnp.log10(jnp.maximum(R_linear, 1e-12)).squeeze()\n",
    "    \n",
    "    # Return the maximum reflection in dB over the frequency range\n",
    "    return jnp.max(R_db)\n",
    "\n",
    "# Extract only the internal thicknesses (those that can be changed)\n",
    "thicknesses_internal = thicknesses[1:-1]"
   ]
  },
  {
   "cell_type": "code",
   "execution_count": 16,
   "metadata": {},
   "outputs": [
    {
     "name": "stdout",
     "output_type": "stream",
     "text": [
      "\n",
      "Gradient of maximum reflection (in dB) with respect to each internal thickness:\n",
      "[ 1.08564531e+02  3.60794514e-11 -5.83546353e-12 -3.01575956e-13\n",
      " -4.09332394e-13]\n"
     ]
    }
   ],
   "source": [
    "# Compute the gradient of the objective with respect to the internal thicknesses.\n",
    "grad_objective = jax.grad(objective)(thicknesses_internal)\n",
    "\n",
    "# Print the gradient information\n",
    "print(\"\\nGradient of maximum reflection (in dB) with respect to each internal thickness:\")\n",
    "print(grad_objective)\n"
   ]
  },
  {
   "cell_type": "markdown",
   "metadata": {},
   "source": [
    "### Explanation:\n",
    "\n",
    "The printed gradient values indicate how sensitive the maximum reflection is to changes in each of the\n",
    "internal layer thicknesses. A negative gradient value means that increasing the thickness of that layer\n",
    "will reduce the maximum reflection (in dB), whereas a positive value indicates the opposite effect."
   ]
  }
 ],
 "metadata": {
  "kernelspec": {
   "display_name": "jll_env",
   "language": "python",
   "name": "python3"
  },
  "language_info": {
   "codemirror_mode": {
    "name": "ipython",
    "version": 3
   },
   "file_extension": ".py",
   "mimetype": "text/x-python",
   "name": "python",
   "nbconvert_exporter": "python",
   "pygments_lexer": "ipython3",
   "version": "3.12.3"
  }
 },
 "nbformat": 4,
 "nbformat_minor": 2
}
