{
 "cells": [
  {
   "cell_type": "markdown",
   "metadata": {},
   "source": [
    "# Gradient Computation"
   ]
  },
  {
   "cell_type": "markdown",
   "metadata": {},
   "source": [
    "This example shows how we can calculate the gradient of a particular objective function.\n",
    "\n",
    "Firstly, the packages required for this example are imported."
   ]
  },
  {
   "cell_type": "code",
   "execution_count": 1,
   "metadata": {
    "ExecuteTime": {
     "end_time": "2025-04-02T17:33:18.294116Z",
     "start_time": "2025-04-02T17:33:13.763180Z"
    }
   },
   "outputs": [],
   "source": [
    "import jax\n",
    "import jax.numpy as jnp\n",
    "\n",
    "import jaxlayerlumos as jll\n",
    "import jaxlayerlumos.utils_spectra as jll_utils_spectra\n",
    "import jaxlayerlumos.utils_materials as jll_utils_materials\n",
    "import jaxlayerlumos.utils_units as jll_utils_units"
   ]
  },
  {
   "cell_type": "markdown",
   "metadata": {},
   "source": [
    "We define a material layout and an incidence angle."
   ]
  },
  {
   "cell_type": "code",
   "execution_count": 2,
   "metadata": {
    "ExecuteTime": {
     "end_time": "2025-04-02T17:33:18.388813Z",
     "start_time": "2025-04-02T17:33:18.301318Z"
    }
   },
   "outputs": [],
   "source": [
    "materials = [\"Air\", \"TiO2\", \"Ag\", \"TiO2\", \"FusedSilica\"]\n",
    "angles = jnp.array([0.0])"
   ]
  },
  {
   "cell_type": "markdown",
   "metadata": {},
   "source": [
    "Frequencies and wavelengths corresponding to visible light values are retrieved along with ($n$, $k$) values for the different materials at these wavelengths."
   ]
  },
  {
   "cell_type": "code",
   "execution_count": 3,
   "metadata": {
    "ExecuteTime": {
     "end_time": "2025-04-02T17:33:19.608948Z",
     "start_time": "2025-04-02T17:33:18.463972Z"
    }
   },
   "outputs": [],
   "source": [
    "frequencies = jll_utils_spectra.get_frequencies_visible_light()\n",
    "wavelengths = jll_utils_spectra.convert_frequencies_to_wavelengths(frequencies)\n",
    "\n",
    "n_k = jll_utils_materials.get_n_k(materials, frequencies)"
   ]
  },
  {
   "cell_type": "markdown",
   "metadata": {},
   "source": [
    "Then, an objective function to compute gradient is defined. This objective function is to obtain the average of reflection spectrum over `thicknesses`. In this example, the gradient over the thicknesses of TiO$_2$, Ag, and TiO$_2$ is computed. The first and last layers are semi-infinite and defined with thicknesses of 0."
   ]
  },
  {
   "cell_type": "code",
   "execution_count": 4,
   "metadata": {
    "ExecuteTime": {
     "end_time": "2025-04-02T17:33:19.616645Z",
     "start_time": "2025-04-02T17:33:19.614343Z"
    }
   },
   "outputs": [],
   "source": [
    "def objective(thicknesses):\n",
    "    thicknesses = jnp.concatenate([\n",
    "        jnp.array([0.0]),\n",
    "        thicknesses,\n",
    "        jnp.array([0.0])\n",
    "    ], axis=0)\n",
    "    thicknesses *= jll_utils_units.get_nano()\n",
    "\n",
    "    R_TE, _, R_TM, _ = jll.stackrt(n_k, thicknesses, frequencies, thetas=angles)\n",
    "\n",
    "    R_TE = R_TE[0]\n",
    "    R_TM = R_TM[0]\n",
    "\n",
    "    spectrum = (R_TE + R_TM) / 2\n",
    "    avg_spectrum = jnp.mean(spectrum)\n",
    "\n",
    "    return avg_spectrum"
   ]
  },
  {
   "cell_type": "markdown",
   "metadata": {},
   "source": [
    "The next cell calculates the gradient over TiO$_2$ (100 nm), Ag (30 nm), and TiO$_2$ (40 nm)."
   ]
  },
  {
   "cell_type": "code",
   "execution_count": 5,
   "metadata": {
    "ExecuteTime": {
     "end_time": "2025-04-02T17:33:23.484416Z",
     "start_time": "2025-04-02T17:33:19.622825Z"
    }
   },
   "outputs": [
    {
     "name": "stdout",
     "output_type": "stream",
     "text": [
      "Gradient over TiO2 (100 nm), Ag (30 nm), TiO2 (40 nm)\n",
      "[-0.00083524  0.01468192  0.00346658]\n"
     ]
    }
   ],
   "source": [
    "grad_objective = jax.grad(objective)(jnp.array([100.0, 30.0, 40.0]))\n",
    "\n",
    "print(\"Gradient over TiO2 (100 nm), Ag (30 nm), TiO2 (40 nm)\")\n",
    "print(grad_objective)"
   ]
  },
  {
   "cell_type": "markdown",
   "metadata": {},
   "source": [
    "The next cell calculates the gradient over TiO$_2$ (10 nm), Ag (5 nm), and TiO$_2$ (12 nm)."
   ]
  },
  {
   "cell_type": "code",
   "execution_count": 6,
   "metadata": {
    "ExecuteTime": {
     "end_time": "2025-04-02T17:33:23.547690Z",
     "start_time": "2025-04-02T17:33:23.489457Z"
    }
   },
   "outputs": [
    {
     "name": "stdout",
     "output_type": "stream",
     "text": [
      "Gradient over TiO2 (10 nm), Ag (5 nm), TiO2 (12 nm)\n",
      "[ 0.0019731  -0.00641389  0.00573745]\n"
     ]
    }
   ],
   "source": [
    "grad_objective = jax.grad(objective)(jnp.array([10.0, 5.0, 12.0]))\n",
    "\n",
    "print(\"Gradient over TiO2 (10 nm), Ag (5 nm), TiO2 (12 nm)\")\n",
    "print(grad_objective)"
   ]
  }
 ],
 "metadata": {
  "kernelspec": {
   "display_name": "Python 3 (ipykernel)",
   "language": "python",
   "name": "python3"
  },
  "language_info": {
   "codemirror_mode": {
    "name": "ipython",
    "version": 3
   },
   "file_extension": ".py",
   "mimetype": "text/x-python",
   "name": "python",
   "nbconvert_exporter": "python",
   "pygments_lexer": "ipython3",
   "version": "3.11.9"
  }
 },
 "nbformat": 4,
 "nbformat_minor": 4
}
