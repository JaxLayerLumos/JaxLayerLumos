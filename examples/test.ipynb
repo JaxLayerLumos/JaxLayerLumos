{
 "cells": [
  {
   "metadata": {
    "ExecuteTime": {
     "end_time": "2025-02-11T21:08:42.184480Z",
     "start_time": "2025-02-11T21:08:41.899051Z"
    }
   },
   "cell_type": "code",
   "source": [
    "import jax.numpy as jnp\n",
    "import numpy as onp\n",
    "import scipy.constants as scic\n",
    "from jaxlayerlumos import stackrt"
   ],
   "id": "2c7c008e78fdb54d",
   "outputs": [],
   "execution_count": 6
  },
  {
   "metadata": {
    "collapsed": true,
    "ExecuteTime": {
     "end_time": "2025-02-11T21:08:46.329483Z",
     "start_time": "2025-02-11T21:08:43.862145Z"
    }
   },
   "cell_type": "code",
   "source": [
    "wavelengths = jnp.array([300e-9])\n",
    "frequencies = scic.c / wavelengths\n",
    "\n",
    "thickness_materials = [0, 100e-9, 300e-9, 0]\n",
    "\n",
    "theta_inc = 45\n",
    "\n",
    "thicknesses = jnp.array(thickness_materials)\n",
    "\n",
    "return_coeffs = True\n",
    "thicknesses = jnp.array(thickness_materials)\n",
    "\n",
    "n_k_in = [[1, 2.2 + 0.2j, 3.3 + 0.3j, 1]]\n",
    "n_k_in = onp.repeat(n_k_in, repeats=len(frequencies), axis=0)\n",
    "n_k = jnp.array(n_k_in)\n",
    "\n",
    "R_TE, T_TE, R_TM, T_TM, results_coeffs = stackrt(\n",
    "        n_k, thicknesses, frequencies, theta_inc, return_coeffs = True\n",
    "    )\n"
   ],
   "id": "initial_id",
   "outputs": [],
   "execution_count": 7
  },
  {
   "metadata": {},
   "cell_type": "code",
   "outputs": [],
   "execution_count": null,
   "source": "",
   "id": "c257150d1b6f3cd0"
  }
 ],
 "metadata": {
  "kernelspec": {
   "display_name": "Python 3",
   "language": "python",
   "name": "python3"
  },
  "language_info": {
   "codemirror_mode": {
    "name": "ipython",
    "version": 2
   },
   "file_extension": ".py",
   "mimetype": "text/x-python",
   "name": "python",
   "nbconvert_exporter": "python",
   "pygments_lexer": "ipython2",
   "version": "2.7.6"
  }
 },
 "nbformat": 4,
 "nbformat_minor": 5
}
