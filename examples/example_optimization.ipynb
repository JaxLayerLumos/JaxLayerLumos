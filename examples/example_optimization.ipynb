{
 "cells": [
  {
   "cell_type": "markdown",
   "id": "675dcb62-dcfc-4293-b7c6-64e61938a929",
   "metadata": {},
   "source": [
    "# Thin-Film Structure Optimization with JaxLayerLumos\n",
    "\n",
    "This example shows the application of JaxLayerLumos to thin-film structure optimization.\n",
    "In this example, we use the [DoG optimizer](https://optax.readthedocs.io/en/latest/api/contrib.html#optax.contrib.dog) [1], included in [optax](https://github.com/google-deepmind/optax).\n",
    "\n",
    "[1] Maor Ivgi, Oliver Hinder, and Yair Carmon. DoG is SGD’s best friend: A parameter-free dynamic step size schedule. In *Proceedings of the International Conference on Machine Learning*, pp. 14465-14499, 2023.\n",
    "\n",
    "Some required packages are imported first."
   ]
  },
  {
   "cell_type": "code",
   "execution_count": 1,
   "id": "66595835-27f6-4ef4-a76f-ff4075ebcc5c",
   "metadata": {
    "tags": []
   },
   "outputs": [],
   "source": [
    "import jax\n",
    "import jax.numpy as jnp\n",
    "import numpy as onp\n",
    "import optax\n",
    "import matplotlib.pyplot as plt\n",
    "\n",
    "import jaxlayerlumos as jll\n",
    "import jaxlayerlumos.utils_materials as jll_utils_materials\n",
    "import jaxlayerlumos.utils_spectra as jll_utils_spectra\n",
    "import jaxlayerlumos.utils_units as jll_utils_units"
   ]
  },
  {
   "cell_type": "markdown",
   "id": "f53b3570-c941-4deb-9c0d-5d2b2222e0b9",
   "metadata": {},
   "source": [
    "We define a three-layer structure with TiO$_2$/Ag/TiO$_2$ for reflection.\n",
    "\n",
    "In addition, a random seed and the number of iterations for structure optimization are declared."
   ]
  },
  {
   "cell_type": "code",
   "execution_count": 2,
   "id": "089cfff8-5e6d-411b-9b8e-df5dab713287",
   "metadata": {},
   "outputs": [],
   "source": [
    "str_mode = \"reflection\"\n",
    "materials = [\"Air\", \"TiO2\", \"Ag\", \"TiO2\", \"FusedSilica\"]\n",
    "num_layers = len(materials) - 2\n",
    "\n",
    "seed = 84\n",
    "num_iter = 100"
   ]
  },
  {
   "cell_type": "markdown",
   "id": "1eae9e2a-3dd8-4045-b876-30efeb48b15f",
   "metadata": {},
   "source": [
    "In the next cell, frequencies, wavelengths, and wavelengths in nanometers are defined, and the n and k values of the structure are obtained from JaxLayerLumos."
   ]
  },
  {
   "cell_type": "code",
   "execution_count": 3,
   "id": "22425816-4009-4be9-a6f6-3323d9ebf68f",
   "metadata": {},
   "outputs": [
    {
     "name": "stdout",
     "output_type": "stream",
     "text": [
      "frequencies.shape (1001,)\n",
      "wavelengths.shape (1001,)\n",
      "wavelengths_in_nm.shape (1001,)\n",
      "n_k.shape (1001, 5)\n"
     ]
    }
   ],
   "source": [
    "frequencies = jll_utils_spectra.get_frequencies_visible_light()\n",
    "wavelengths = jll_utils_spectra.convert_frequencies_to_wavelengths(frequencies)\n",
    "wavelengths_in_nm = wavelengths / jll_utils_units.get_nano()\n",
    "\n",
    "n_k = jll_utils_materials.get_n_k(materials, frequencies)\n",
    "\n",
    "print(f\"frequencies.shape {frequencies.shape}\")\n",
    "print(f\"wavelengths.shape {wavelengths.shape}\")\n",
    "print(f\"wavelengths_in_nm.shape {wavelengths_in_nm.shape}\")\n",
    "print(f\"n_k.shape {n_k.shape}\")"
   ]
  },
  {
   "cell_type": "markdown",
   "id": "14e90439-8b37-4f6d-aa39-e529ad888af4",
   "metadata": {},
   "source": [
    "We choose a simple target spectrum over the frequencies of interest."
   ]
  },
  {
   "cell_type": "code",
   "execution_count": 4,
   "id": "b232181f-9cfd-4995-9374-946dff13e828",
   "metadata": {},
   "outputs": [
    {
     "data": {
      "text/plain": [
       "[<matplotlib.lines.Line2D at 0x7fe86ae518d0>]"
      ]
     },
     "execution_count": 4,
     "metadata": {},
     "output_type": "execute_result"
    },
    {
     "data": {
      "image/png": "[encoded data removed]",
      "text/plain": [
       "<Figure size 640x480 with 1 Axes>"
      ]
     },
     "metadata": {},
     "output_type": "display_data"
    }
   ],
   "source": [
    "target_spectrum = jnp.zeros_like(frequencies)\n",
    "target_spectrum = target_spectrum.at[:200].set(0.2)\n",
    "target_spectrum = target_spectrum.at[700:].set(0.2)\n",
    "\n",
    "plt.plot(wavelengths_in_nm, target_spectrum)"
   ]
  },
  {
   "cell_type": "markdown",
   "id": "b46cf73d-1451-46b1-8ea7-4a05dc21a292",
   "metadata": {},
   "source": [
    "`transform` is to clip thicknesses to non-negative values, concatenate 0 into the beginning and end of the thicknesses, and multiply 10$^{-9}$ to the thicknesses.\n",
    "\n",
    "`get_spectrum` is to calculate the transmission or reflection spectrum of a thin-film structure with thicknesses at a normal angle.\n",
    "\n",
    "`objective` defines a squared residual between the target spectrum and the spectrum of the current structure."
   ]
  },
  {
   "cell_type": "code",
   "execution_count": 5,
   "id": "1530be22-d3cd-463a-87ba-8d4a4167422e",
   "metadata": {},
   "outputs": [],
   "source": [
    "def transform(inputs):\n",
    "    thicknesses = jnp.clip(inputs, min=0)\n",
    "    thicknesses = jnp.concatenate([\n",
    "        jnp.array([0]),\n",
    "        thicknesses,\n",
    "        jnp.array([0])\n",
    "    ], axis=0)\n",
    "    thicknesses *= jll_utils_units.get_nano()\n",
    "\n",
    "    return thicknesses\n",
    "\n",
    "def get_spectrum(inputs):\n",
    "    angles = jnp.array([0.0])\n",
    "    thicknesses = transform(inputs)\n",
    "\n",
    "    R_TE, T_TE, R_TM, T_TM = jll.stackrt(n_k, thicknesses, frequencies, thetas=angles)\n",
    "\n",
    "    R_TE = R_TE[0]\n",
    "    T_TE = T_TE[0]\n",
    "    R_TM = R_TM[0]\n",
    "    T_TM = T_TM[0]\n",
    "\n",
    "    if str_mode == \"transmission\":\n",
    "        spectrum = (T_TE + T_TM) / 2\n",
    "    elif str_mode == \"reflection\":\n",
    "        spectrum = (R_TE + R_TM) / 2\n",
    "    else:\n",
    "        raise ValueError\n",
    "\n",
    "    return spectrum\n",
    "\n",
    "def objective(inputs, target_spectrum):\n",
    "    spectrum = get_spectrum(inputs)\n",
    "    loss = jnp.sum(jnp.abs(spectrum - target_spectrum)**2)\n",
    "\n",
    "    return loss"
   ]
  },
  {
   "cell_type": "markdown",
   "id": "ab798796-18af-42ce-95f2-2d8a15871c02",
   "metadata": {},
   "source": [
    "The next cell carries out the structure optimization with the DoG optimizer for `num_iter` iterations.\n",
    "\n",
    "The initial thicknesses are set by sampling them from a uniform distribution $\\mathcal{U}(0, 100)$.\n",
    "Note that they are in nanometers."
   ]
  },
  {
   "cell_type": "code",
   "execution_count": 6,
   "id": "61658529-942c-4f5d-bab2-5f9c8c301720",
   "metadata": {},
   "outputs": [
    {
     "name": "stdout",
     "output_type": "stream",
     "text": [
      "Iteration 1: 551.35784461\n",
      "Iteration 2: 551.35714604\n",
      "Iteration 3: 551.35617234\n",
      "Iteration 4: 551.35484225\n",
      "Iteration 5: 551.35305774\n",
      "Iteration 6: 551.35070021\n",
      "Iteration 7: 551.34762651\n",
      "Iteration 8: 551.34366465\n",
      "Iteration 9: 551.33860879\n",
      "Iteration 10: 551.33221366\n",
      "Iteration 11: 551.32418807\n",
      "Iteration 12: 551.31418756\n",
      "Iteration 13: 551.30180607\n",
      "Iteration 14: 551.28656635\n",
      "Iteration 15: 551.26790925\n",
      "Iteration 16: 551.24518143\n",
      "Iteration 17: 551.21762155\n",
      "Iteration 18: 551.18434468\n",
      "Iteration 19: 551.14432466\n",
      "Iteration 20: 551.09637439\n",
      "Iteration 21: 551.03912352\n",
      "Iteration 22: 550.97099361\n",
      "Iteration 23: 550.89017022\n",
      "Iteration 24: 550.79457178\n",
      "Iteration 25: 550.68181490\n",
      "Iteration 26: 550.54917577\n",
      "Iteration 27: 550.39354737\n",
      "Iteration 28: 550.21139203\n",
      "Iteration 29: 549.99868913\n",
      "Iteration 30: 549.75087757\n",
      "Iteration 31: 549.46279268\n",
      "Iteration 32: 549.12859725\n",
      "Iteration 33: 548.74170678\n",
      "Iteration 34: 548.29470854\n",
      "Iteration 35: 547.77927487\n",
      "Iteration 36: 547.18607083\n",
      "Iteration 37: 546.50465706\n",
      "Iteration 38: 545.72338888\n",
      "Iteration 39: 544.82931317\n",
      "Iteration 40: 543.80806553\n",
      "Iteration 41: 542.64377068\n",
      "Iteration 42: 541.31895022\n",
      "Iteration 43: 539.81444246\n",
      "Iteration 44: 538.10933982\n",
      "Iteration 45: 536.18094872\n",
      "Iteration 46: 534.00477498\n",
      "Iteration 47: 531.55453205\n",
      "Iteration 48: 528.80215829\n",
      "Iteration 49: 525.71780840\n",
      "Iteration 50: 522.26974897\n",
      "Iteration 51: 518.42403230\n",
      "Iteration 52: 514.14374130\n",
      "Iteration 53: 509.38748797\n",
      "Iteration 54: 504.10670824\n",
      "Iteration 55: 498.24113231\n",
      "Iteration 56: 491.71161820\n",
      "Iteration 57: 484.40929210\n",
      "Iteration 58: 476.17955263\n",
      "Iteration 59: 466.79877538\n",
      "Iteration 60: 455.94014754\n",
      "Iteration 61: 443.12240521\n",
      "Iteration 62: 427.63052270\n",
      "Iteration 63: 408.38974889\n",
      "Iteration 64: 383.76470573\n",
      "Iteration 65: 351.25630334\n",
      "Iteration 66: 307.15442044\n",
      "Iteration 67: 246.71702025\n",
      "Iteration 68: 167.57983457\n",
      "Iteration 69: 82.83675855\n",
      "Iteration 70: 29.10393594\n",
      "Iteration 71: 13.37978942\n",
      "Iteration 72: 9.54634066\n",
      "Iteration 73: 8.03221654\n",
      "Iteration 74: 7.18184436\n",
      "Iteration 75: 6.61573306\n",
      "Iteration 76: 6.20804761\n",
      "Iteration 77: 5.90283814\n",
      "Iteration 78: 5.66940007\n",
      "Iteration 79: 5.48845597\n",
      "Iteration 80: 5.34689206\n",
      "Iteration 81: 5.23535220\n",
      "Iteration 82: 5.14696090\n",
      "Iteration 83: 5.07656567\n",
      "Iteration 84: 5.02025149\n",
      "Iteration 85: 4.97501282\n",
      "Iteration 86: 4.93852374\n",
      "Iteration 87: 4.90897268\n",
      "Iteration 88: 4.88494119\n",
      "Iteration 89: 4.86531366\n",
      "Iteration 90: 4.84920930\n",
      "Iteration 91: 4.83593043\n",
      "Iteration 92: 4.82492278\n",
      "Iteration 93: 4.81574489\n",
      "Iteration 94: 4.80804433\n",
      "Iteration 95: 4.80153917\n",
      "Iteration 96: 4.79600341\n",
      "Iteration 97: 4.79125564\n",
      "Iteration 98: 4.78714993\n",
      "Iteration 99: 4.78356879\n",
      "Iteration 100: 4.78041744\n"
     ]
    }
   ],
   "source": [
    "params = jax.random.uniform(jax.random.key(seed), shape=(num_layers, ), minval=0, maxval=100)\n",
    "\n",
    "optimizer = optax.contrib.dog()\n",
    "optimizer_state = optimizer.init(params)\n",
    "\n",
    "fun_objective = lambda inputs: objective(inputs, target_spectrum)\n",
    "\n",
    "parameters = []\n",
    "loss_values = []\n",
    "\n",
    "for ind in range(0, num_iter):\n",
    "    values, grads = jax.value_and_grad(fun_objective)(params)\n",
    "    updates, optimizer_state = optimizer.update(grads, optimizer_state, params, value=values)\n",
    "    params = optax.apply_updates(params, updates)\n",
    "\n",
    "    loss_value = fun_objective(params)\n",
    "\n",
    "    parameters.append(onp.array(params))\n",
    "    loss_values.append(loss_value)\n",
    "\n",
    "    print(f\"Iteration {ind + 1}: {loss_value:.8f}\", flush=True)"
   ]
  },
  {
   "cell_type": "markdown",
   "id": "699aa5f8-e5c6-4dec-8a62-6a07be732b92",
   "metadata": {},
   "source": [
    "We print the thicknesses found by this example."
   ]
  },
  {
   "cell_type": "code",
   "execution_count": 7,
   "id": "120a1eff-c5e8-4fce-9a7c-c01bc8063e40",
   "metadata": {},
   "outputs": [
    {
     "name": "stdout",
     "output_type": "stream",
     "text": [
      "Air 0.00 nm\n",
      "TiO2 27.38 nm\n",
      "Ag 6.95 nm\n",
      "TiO2 90.48 nm\n",
      "FusedSilica 0.00 nm\n"
     ]
    }
   ],
   "source": [
    "thicknesses_optimized = transform(params) / jll_utils_units.get_nano()\n",
    "\n",
    "for material, thickness in zip(materials, thicknesses_optimized):\n",
    "    print(f'{material} {thickness:.2f} nm')"
   ]
  },
  {
   "cell_type": "markdown",
   "id": "5081a741-987d-4e71-ada0-ca7cf7ea2122",
   "metadata": {},
   "source": [
    "Finally, we plot the spectrum we get through the structure optimization, as well as the target spectrum."
   ]
  },
  {
   "cell_type": "code",
   "execution_count": 8,
   "id": "60ed6c6b-d03b-456b-8b48-f1479e6eebae",
   "metadata": {},
   "outputs": [
    {
     "data": {
      "text/plain": [
       "<matplotlib.legend.Legend at 0x7fe86806df50>"
      ]
     },
     "execution_count": 8,
     "metadata": {},
     "output_type": "execute_result"
    },
    {
     "data": {
      "image/png": "[encoded data removed]",
      "text/plain": [
       "<Figure size 640x480 with 1 Axes>"
      ]
     },
     "metadata": {},
     "output_type": "display_data"
    }
   ],
   "source": [
    "spectrum_optimized = get_spectrum(params)\n",
    "\n",
    "plt.plot(wavelengths_in_nm, target_spectrum, label='target')\n",
    "plt.plot(wavelengths_in_nm, spectrum_optimized, label='optimized')\n",
    "\n",
    "plt.legend()"
   ]
  },
  {
   "cell_type": "code",
   "execution_count": null,
   "id": "e501470d-61a4-46f9-81dd-1e2f21922f5f",
   "metadata": {},
   "outputs": [],
   "source": []
  }
 ],
 "metadata": {
  "kernelspec": {
   "display_name": "Python 3 (ipykernel)",
   "language": "python",
   "name": "python3"
  },
  "language_info": {
   "codemirror_mode": {
    "name": "ipython",
    "version": 3
   },
   "file_extension": ".py",
   "mimetype": "text/x-python",
   "name": "python",
   "nbconvert_exporter": "python",
   "pygments_lexer": "ipython3",
   "version": "3.11.9"
  }
 },
 "nbformat": 4,
 "nbformat_minor": 5
}
