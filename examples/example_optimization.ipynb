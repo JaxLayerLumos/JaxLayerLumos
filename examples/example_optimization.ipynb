{
 "cells": [
  {
   "cell_type": "code",
   "execution_count": 1,
   "id": "66595835-27f6-4ef4-a76f-ff4075ebcc5c",
   "metadata": {
    "tags": []
   },
   "outputs": [],
   "source": [
    "import jax\n",
    "import jax.numpy as jnp\n",
    "import numpy as onp\n",
    "import optax\n",
    "import matplotlib.pyplot as plt\n",
    "\n",
    "import jaxlayerlumos as jll\n",
    "import jaxlayerlumos.utils_materials as jll_utils_materials\n",
    "import jaxlayerlumos.utils_spectra as jll_utils_spectra\n",
    "import jaxlayerlumos.utils_units as jll_utils_units"
   ]
  },
  {
   "cell_type": "code",
   "execution_count": 2,
   "id": "089cfff8-5e6d-411b-9b8e-df5dab713287",
   "metadata": {},
   "outputs": [],
   "source": [
    "str_mode = \"reflection\"\n",
    "materials = [\"Air\", \"TiO2\", \"Ag\", \"TiO2\", \"FusedSilica\"]\n",
    "num_layers = len(materials) - 2\n",
    "\n",
    "seed = 42\n",
    "num_iter = 100"
   ]
  },
  {
   "cell_type": "code",
   "execution_count": 3,
   "id": "22425816-4009-4be9-a6f6-3323d9ebf68f",
   "metadata": {},
   "outputs": [
    {
     "name": "stdout",
     "output_type": "stream",
     "text": [
      "frequencies.shape (1001,)\n",
      "wavelengths.shape (1001,)\n",
      "wavelengths_in_nm.shape (1001,)\n",
      "n_k.shape (1001, 5)\n"
     ]
    }
   ],
   "source": [
    "frequencies = jll_utils_spectra.get_frequencies_visible_light()\n",
    "wavelengths = jll_utils_spectra.convert_frequencies_to_wavelengths(frequencies)\n",
    "wavelengths_in_nm = wavelengths / jll_utils_units.get_nano()\n",
    "\n",
    "n_k = jll_utils_materials.get_n_k(materials, frequencies)\n",
    "\n",
    "print(f\"frequencies.shape {frequencies.shape}\")\n",
    "print(f\"wavelengths.shape {wavelengths.shape}\")\n",
    "print(f\"wavelengths_in_nm.shape {wavelengths_in_nm.shape}\")\n",
    "print(f\"n_k.shape {n_k.shape}\")"
   ]
  },
  {
   "cell_type": "code",
   "execution_count": 4,
   "id": "b232181f-9cfd-4995-9374-946dff13e828",
   "metadata": {},
   "outputs": [
    {
     "data": {
      "text/plain": [
       "[<matplotlib.lines.Line2D at 0x7f3ec5d75dd0>]"
      ]
     },
     "execution_count": 4,
     "metadata": {},
     "output_type": "execute_result"
    },
    {
     "data": {
      "image/png": "[encoded data removed]",
      "text/plain": [
       "<Figure size 640x480 with 1 Axes>"
      ]
     },
     "metadata": {},
     "output_type": "display_data"
    }
   ],
   "source": [
    "target_spectrum = jnp.zeros_like(frequencies)\n",
    "target_spectrum = target_spectrum.at[700:].set(1.0)\n",
    "\n",
    "plt.plot(wavelengths_in_nm, target_spectrum)"
   ]
  },
  {
   "cell_type": "code",
   "execution_count": 5,
   "id": "1530be22-d3cd-463a-87ba-8d4a4167422e",
   "metadata": {},
   "outputs": [],
   "source": [
    "def transform(inputs):\n",
    "    thicknesses = jnp.clip(inputs, min=0)\n",
    "    thicknesses = jnp.concatenate([\n",
    "        jnp.array([0]),\n",
    "        thicknesses,\n",
    "        jnp.array([0])\n",
    "    ], axis=0)\n",
    "    thicknesses *= jll_utils_units.get_nano()\n",
    "\n",
    "    return thicknesses\n",
    "\n",
    "def get_spectrum(inputs):\n",
    "    angles = jnp.array([0.0])\n",
    "    thicknesses = transform(inputs)\n",
    "\n",
    "    R_TE, T_TE, R_TM, T_TM = jll.stackrt(n_k, thicknesses, frequencies, thetas=angles)\n",
    "\n",
    "    R_TE = R_TE[0]\n",
    "    T_TE = T_TE[0]\n",
    "    R_TM = R_TM[0]\n",
    "    T_TM = T_TM[0]\n",
    "\n",
    "    if str_mode == \"transmission\":\n",
    "        spectrum = (T_TE + T_TM) / 2\n",
    "    elif str_mode == \"reflection\":\n",
    "        spectrum = (R_TE + R_TM) / 2\n",
    "    else:\n",
    "        raise ValueError\n",
    "\n",
    "    return spectrum\n",
    "\n",
    "def objective(inputs, target_spectrum):\n",
    "    spectrum = get_spectrum(inputs)\n",
    "    loss = jnp.sum(jnp.abs(spectrum - target_spectrum)**2)\n",
    "\n",
    "    return loss"
   ]
  },
  {
   "cell_type": "code",
   "execution_count": 6,
   "id": "61658529-942c-4f5d-bab2-5f9c8c301720",
   "metadata": {},
   "outputs": [
    {
     "name": "stdout",
     "output_type": "stream",
     "text": [
      "Iteration 1: 615.51289818\n",
      "Iteration 2: 615.51274003\n",
      "Iteration 3: 615.51251959\n",
      "Iteration 4: 615.51221845\n",
      "Iteration 5: 615.51181440\n",
      "Iteration 6: 615.51128054\n",
      "Iteration 7: 615.51058442\n",
      "Iteration 8: 615.50968698\n",
      "Iteration 9: 615.50854146\n",
      "Iteration 10: 615.50709205\n",
      "Iteration 11: 615.50527240\n",
      "Iteration 12: 615.50300384\n",
      "Iteration 13: 615.50019340\n",
      "Iteration 14: 615.49673147\n",
      "Iteration 15: 615.49248912\n",
      "Iteration 16: 615.48731495\n",
      "Iteration 17: 615.48103152\n",
      "Iteration 18: 615.47343108\n",
      "Iteration 19: 615.46427063\n",
      "Iteration 20: 615.45326613\n",
      "Iteration 21: 615.44008557\n",
      "Iteration 22: 615.42434083\n",
      "Iteration 23: 615.40557783\n",
      "Iteration 24: 615.38326471\n",
      "Iteration 25: 615.35677741\n",
      "Iteration 26: 615.32538205\n",
      "Iteration 27: 615.28821308\n",
      "Iteration 28: 615.24424597\n",
      "Iteration 29: 615.19226291\n",
      "Iteration 30: 615.13080898\n",
      "Iteration 31: 615.05813598\n",
      "Iteration 32: 614.97212927\n",
      "Iteration 33: 614.87021180\n",
      "Iteration 34: 614.74921655\n",
      "Iteration 35: 614.60521515\n",
      "Iteration 36: 614.43328466\n",
      "Iteration 37: 614.22718652\n",
      "Iteration 38: 613.97891847\n",
      "Iteration 39: 613.67808144\n",
      "Iteration 40: 613.31097348\n",
      "Iteration 41: 612.85927787\n",
      "Iteration 42: 612.29814645\n",
      "Iteration 43: 611.59338797\n",
      "Iteration 44: 610.69736853\n",
      "Iteration 45: 609.54319609\n",
      "Iteration 46: 608.03707701\n",
      "Iteration 47: 606.05027047\n",
      "Iteration 48: 603.41703915\n",
      "Iteration 49: 599.95733572\n",
      "Iteration 50: 595.56227870\n",
      "Iteration 51: 590.37189650\n",
      "Iteration 52: 584.93202077\n",
      "Iteration 53: 579.99224735\n",
      "Iteration 54: 575.96239831\n",
      "Iteration 55: 572.73670546\n",
      "Iteration 56: 569.98129149\n",
      "Iteration 57: 567.35858173\n",
      "Iteration 58: 564.56210950\n",
      "Iteration 59: 561.26460887\n",
      "Iteration 60: 557.02062573\n",
      "Iteration 61: 551.08286827\n",
      "Iteration 62: 541.97357323\n",
      "Iteration 63: 526.28246260\n",
      "Iteration 64: 494.69359034\n",
      "Iteration 65: 417.57084596\n",
      "Iteration 66: 213.86688841\n",
      "Iteration 67: 174.80451948\n",
      "Iteration 68: 173.34331575\n",
      "Iteration 69: 173.15374236\n",
      "Iteration 70: 173.12994058\n",
      "Iteration 71: 173.12663851\n",
      "Iteration 72: 173.12619501\n",
      "Iteration 73: 173.12613469\n",
      "Iteration 74: 173.12612652\n",
      "Iteration 75: 173.12612542\n",
      "Iteration 76: 173.12612527\n",
      "Iteration 77: 173.12612525\n",
      "Iteration 78: 173.12612524\n",
      "Iteration 79: 173.12612524\n",
      "Iteration 80: 173.12612524\n",
      "Iteration 81: 173.12612524\n",
      "Iteration 82: 173.12612524\n",
      "Iteration 83: 173.12612524\n",
      "Iteration 84: 173.12612524\n",
      "Iteration 85: 173.12612524\n",
      "Iteration 86: 173.12612524\n",
      "Iteration 87: 173.12612524\n",
      "Iteration 88: 173.12612524\n",
      "Iteration 89: 173.12612524\n",
      "Iteration 90: 173.12612524\n",
      "Iteration 91: 173.12612524\n",
      "Iteration 92: 173.12612524\n",
      "Iteration 93: 173.12612524\n",
      "Iteration 94: 173.12612524\n",
      "Iteration 95: 173.12612524\n",
      "Iteration 96: 173.12612524\n",
      "Iteration 97: 173.12612524\n",
      "Iteration 98: 173.12612524\n",
      "Iteration 99: 173.12612524\n",
      "Iteration 100: 173.12612524\n"
     ]
    }
   ],
   "source": [
    "params = jax.random.uniform(jax.random.key(seed), shape=(num_layers, ), minval=0, maxval=100)\n",
    "\n",
    "optimizer = optax.contrib.dog()\n",
    "optimizer_state = optimizer.init(params)\n",
    "\n",
    "fun_objective = lambda inputs: objective(inputs, target_spectrum)\n",
    "\n",
    "parameters = []\n",
    "loss_values = []\n",
    "\n",
    "for ind in range(0, num_iter):\n",
    "    values, grads = jax.value_and_grad(fun_objective)(params)\n",
    "    updates, optimizer_state = optimizer.update(grads, optimizer_state, params, value=values)\n",
    "    params = optax.apply_updates(params, updates)\n",
    "\n",
    "    loss_value = fun_objective(params)\n",
    "\n",
    "    parameters.append(onp.array(params))\n",
    "    loss_values.append(loss_value)\n",
    "\n",
    "    print(f\"Iteration {ind + 1}: {loss_value:.8f}\", flush=True)"
   ]
  },
  {
   "cell_type": "code",
   "execution_count": 7,
   "id": "60ed6c6b-d03b-456b-8b48-f1479e6eebae",
   "metadata": {},
   "outputs": [
    {
     "data": {
      "text/plain": [
       "<matplotlib.legend.Legend at 0x7f3ec4bf5450>"
      ]
     },
     "execution_count": 7,
     "metadata": {},
     "output_type": "execute_result"
    },
    {
     "data": {
      "image/png": "[encoded data removed]",
      "text/plain": [
       "<Figure size 640x480 with 1 Axes>"
      ]
     },
     "metadata": {},
     "output_type": "display_data"
    }
   ],
   "source": [
    "spectrum_optimized = get_spectrum(params)\n",
    "\n",
    "plt.plot(wavelengths_in_nm, target_spectrum, label='target')\n",
    "plt.plot(wavelengths_in_nm, spectrum_optimized, label='optimized')\n",
    "\n",
    "plt.legend()"
   ]
  },
  {
   "cell_type": "code",
   "execution_count": null,
   "id": "e501470d-61a4-46f9-81dd-1e2f21922f5f",
   "metadata": {},
   "outputs": [],
   "source": []
  }
 ],
 "metadata": {
  "kernelspec": {
   "display_name": "Python 3 (ipykernel)",
   "language": "python",
   "name": "python3"
  },
  "language_info": {
   "codemirror_mode": {
    "name": "ipython",
    "version": 3
   },
   "file_extension": ".py",
   "mimetype": "text/x-python",
   "name": "python",
   "nbconvert_exporter": "python",
   "pygments_lexer": "ipython3",
   "version": "3.11.9"
  }
 },
 "nbformat": 4,
 "nbformat_minor": 5
}
