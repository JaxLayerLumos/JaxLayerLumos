{
 "cells": [
  {
   "cell_type": "markdown",
   "id": "410cf89428178227",
   "metadata": {},
   "source": [
    "# Analysis of Solar Cells"
   ]
  },
  {
   "cell_type": "markdown",
   "id": "343ba9b5-7333-4430-9957-a3284a7b21e1",
   "metadata": {},
   "source": [
    "TBD"
   ]
  },
  {
   "cell_type": "code",
   "execution_count": 1,
   "id": "708a13cbb2d21b14",
   "metadata": {
    "ExecuteTime": {
     "end_time": "2025-02-18T21:08:08.029588Z",
     "start_time": "2025-02-18T21:08:07.102160Z"
    }
   },
   "outputs": [],
   "source": [
    "import jax.numpy as jnp\n",
    "import numpy as onp\n",
    "import matplotlib.pyplot as plt\n",
    "\n",
    "import jaxlayerlumos as jll\n",
    "import jaxlayerlumos.utils_units as jll_utils_units\n",
    "import jaxlayerlumos.utils_materials as jll_utils_materials\n",
    "import jaxlayerlumos.utils_spectra as jll_utils_spectra\n",
    "import jaxlayerlumos.utils_position as jll_utils_position"
   ]
  },
  {
   "cell_type": "code",
   "execution_count": 2,
   "id": "5abae22b-50ce-4a99-a17c-863624616861",
   "metadata": {},
   "outputs": [
    {
     "name": "stdout",
     "output_type": "stream",
     "text": [
      "Light speed: 2.9979e+08\n",
      "Planck constant: 6.6261e-34\n",
      "Elementary charge: 1.6022e-19\n",
      "nano: 1.0000e-09\n"
     ]
    }
   ],
   "source": [
    "c = jll_utils_units.get_light_speed()\n",
    "h = jll_utils_units.get_planck_constant()\n",
    "e = jll_utils_units.get_elementary_charge()\n",
    "nano = jll_utils_units.get_nano()\n",
    "\n",
    "print(f\"Light speed: {c:.4e}\")\n",
    "print(f\"Planck constant: {h:.4e}\")\n",
    "print(f\"Elementary charge: {e:.4e}\")\n",
    "print(f\"nano: {nano:.4e}\")"
   ]
  },
  {
   "cell_type": "markdown",
   "id": "c8a6fee6e5c13553",
   "metadata": {},
   "source": [
    "## Silicon Absorption on PEC\n",
    "\n",
    "Crystalline silicon is the most common material for solar cells.  In this example, we simulate 150 micron thick silicon on a perfectly electrical conductor (PEC) and make a plot of the absorption spectra.\n",
    "Since crystalline silicon has a bandgap of 1.12 eV, you can see that the silicon only absorbs at photon energies greater than 1.12 eV."
   ]
  },
  {
   "cell_type": "code",
   "execution_count": null,
   "id": "58f8b3812df2abf7",
   "metadata": {
    "ExecuteTime": {
     "end_time": "2025-02-18T21:09:50.512954Z",
     "start_time": "2025-02-18T21:09:50.334317Z"
    }
   },
   "outputs": [],
   "source": [
    "wavelengths = jnp.linspace(280, 2000, 1000) * nano\n",
    "frequencies = jll_utils_spectra.convert_wavelengths_to_frequencies(wavelengths)\n",
    "energy = jll_utils_spectra.convert_wavelengths_to_energy(wavelengths)\n",
    "\n",
    "materials = [\"Air\", \"cSi\", \"PEC\"]\n",
    "thicknesses = jnp.array([0, 40e-6, 0])\n",
    "inc_angle = 0.0\n",
    "\n",
    "n_k = jll_utils_materials.get_n_k(materials, frequencies)\n",
    "R_TE, T_TE, R_TM, T_TM = jll.stackrt(n_k, thicknesses, frequencies, inc_angle)\n",
    "\n",
    "A = 1 - R_TE.squeeze() - T_TE.squeeze()"
   ]
  },
  {
   "cell_type": "code",
   "execution_count": null,
   "id": "610e1b7e-4d9d-4da6-bbb0-79e8fafc94b0",
   "metadata": {},
   "outputs": [],
   "source": [
    "fig = plt.figure(figsize=(8, 6))\n",
    "ax = fig.gca()\n",
    "\n",
    "ax.plot(energy, A)\n",
    "ax.set_xlabel(\"Energy (eV)\")\n",
    "ax.set_ylabel(\"Absorption (A)\")\n",
    "ax.set_title(\"Absorption vs. Energy\")\n",
    "ax.grid()\n",
    "\n",
    "plt.tight_layout()\n",
    "plt.show()"
   ]
  },
  {
   "cell_type": "markdown",
   "id": "acb94bfea1fa3ebf",
   "metadata": {},
   "source": [
    "## Silicon Absorption on Aluminum"
   ]
  },
  {
   "cell_type": "markdown",
   "id": "70b6fe6d13f61ff3",
   "metadata": {},
   "source": [
    "Here we switch the back layer to Aluminum instead of a perfect electrical conductor (PEC).  Since the Aluminum has some parasitic absorption, we must calculate the absorption in each layer.\n",
    "There is a very slight difference with aluminum, but it is small so we can just use PEC. As can be seen, most of the absorption in the aluminum occurs at smaller energies and thus can be absorbed."
   ]
  },
  {
   "cell_type": "code",
   "execution_count": null,
   "id": "a470c948c1f0fe86",
   "metadata": {
    "ExecuteTime": {
     "end_time": "2025-02-18T20:46:54.279403Z",
     "start_time": "2025-02-18T20:46:53.563529Z"
    }
   },
   "outputs": [],
   "source": [
    "wavelengths = jnp.linspace(280, 2000, 1000) * nano\n",
    "frequencies = jll_utils_spectra.convert_wavelengths_to_frequencies(wavelengths)\n",
    "energy = jll_utils_spectra.convert_wavelengths_to_energy(wavelengths)\n",
    "\n",
    "materials = [\"Air\", \"cSi\", \"Al\"]\n",
    "thicknesses = jnp.array([0, 40e-6, 0])\n",
    "material_silicon_index = 2\n",
    "material_aluminum_index = 3\n",
    "\n",
    "n_k = jll_utils_materials.get_n_k(materials, frequencies)\n",
    "inc_angle = 0.0\n",
    "\n",
    "R_TE, T_TE, R_TM, T_TM, results_coeffs = jll.stackrt(\n",
    "    n_k, thicknesses, frequencies, inc_angle, return_coeffs=True\n",
    ")\n",
    "\n",
    "results_coeffs = jll_utils_position.calc_absorption_in_each_layer(\n",
    "    thicknesses, results_coeffs\n",
    ")\n",
    "# results_coeffs[\"absorption_layer_TE\"][material_silicon_index-1,:]"
   ]
  },
  {
   "cell_type": "code",
   "execution_count": null,
   "id": "280efc99-347f-4d05-8d65-602092d81502",
   "metadata": {},
   "outputs": [],
   "source": [
    "fig = plt.figure(figsize=(8, 6))\n",
    "ax = fig.gca()\n",
    "\n",
    "ax.plot(energy, A, label='PEC substrate', linestyle='solid')\n",
    "ax.plot(energy, results_coeffs[\"absorption_layer_TE\"][material_silicon_index-1,:], label='Al substrate', linestyle='dashed')\n",
    "ax.set_xlabel(\"Energy (eV)\")\n",
    "ax.set_ylabel(\"Absorption (A)\")\n",
    "ax.set_title(\"Absorption vs. Energy\")\n",
    "ax.grid()\n",
    "\n",
    "plt.legend()\n",
    "plt.tight_layout()\n",
    "plt.show()"
   ]
  },
  {
   "cell_type": "code",
   "execution_count": null,
   "id": "efafb145-0f13-4a73-84d5-6bd5778b5115",
   "metadata": {},
   "outputs": [],
   "source": [
    "fig = plt.figure(figsize=(8, 6))\n",
    "ax = fig.gca()\n",
    "\n",
    "ax.plot(energy, results_coeffs[\"absorption_layer_TE\"][material_aluminum_index-1,:], label='Al substrate Absorption')\n",
    "ax.set_xlabel(\"Energy (eV)\")\n",
    "ax.set_ylabel(\"Absorption (A)\")\n",
    "ax.set_title(\"Aluminum Absorption vs. Energy in Aluminum Layer\")\n",
    "ax.grid()\n",
    "\n",
    "plt.tight_layout()\n",
    "plt.show()"
   ]
  },
  {
   "cell_type": "code",
   "execution_count": null,
   "id": "43d97e330053aa7a",
   "metadata": {
    "ExecuteTime": {
     "end_time": "2025-02-18T21:08:15.199084Z",
     "start_time": "2025-02-18T21:08:14.800277Z"
    }
   },
   "outputs": [],
   "source": [
    "wavelengths_all = jnp.linspace(280e-9, 4000e-9, 2000)\n",
    "wavelengths_all_nm = jll_utils_units.convert_m_to_nm(wavelengths_all)\n",
    "irradiance_all = utils_spectra.get_irradiance('AM1p5G', wavelengths_all)\n",
    "photon_flux_all = (irradiance_all * wavelengths_all)/(scic.h*scic.c)\n",
    "total_photons = onp.trapezoid(photon_flux_all, wavelengths_all_nm)"
   ]
  },
  {
   "cell_type": "markdown",
   "id": "1ce7a72f00c1c24d",
   "metadata": {},
   "source": [
    "## Solar Absorption"
   ]
  },
  {
   "cell_type": "markdown",
   "id": "3fb1a492bb00bf80",
   "metadata": {},
   "source": [
    "We want to calculate the solar absorption as a function of thickness. The solar absorption is defined as the fraction of photons absorbed divided by the total number of photons.  We use the AM1.5G spectra here."
   ]
  },
  {
   "cell_type": "code",
   "execution_count": null,
   "id": "9acbc9768d7058d1",
   "metadata": {
    "ExecuteTime": {
     "end_time": "2025-02-18T21:10:17.752196Z",
     "start_time": "2025-02-18T21:10:14.096384Z"
    }
   },
   "outputs": [],
   "source": [
    "wavelengths = jnp.linspace(280e-9, 1400e-9, 1000)\n",
    "energy = utils_spectra.convert_wavelengths_to_energy(wavelengths)\n",
    "\n",
    "frequencies = scic.c / wavelengths\n",
    "\n",
    "silicon_thicknesses = jnp.linspace(100e-9, 100e-6, 100)\n",
    "# PEC is a perfect electrical conductor\n",
    "materials = onp.array([\"Air\", \"cSi\", \"PEC\"])\n",
    "\n",
    "solar_absorption_results = []\n",
    "\n",
    "n_k = utils_materials.get_n_k(materials, frequencies)\n",
    "\n",
    "irradiance = utils_spectra.get_irradiance('AM1p5G', wavelengths)\n",
    "photon_flux = (irradiance * wavelengths) / (scic.h * scic.c)\n",
    "\n",
    "absorption_results = onp.zeros((len(silicon_thicknesses), len(wavelengths)))\n",
    "\n",
    "for i, thickness_si in enumerate(silicon_thicknesses):\n",
    "\n",
    "    thickness_materials = [0, thickness_si, 0]\n",
    "\n",
    "    thicknesses = jnp.array(thickness_materials)\n",
    "\n",
    "    R_TE, T_TE, R_TM, T_TM = jll.stackrt(n_k, thicknesses, frequencies, 0.0)\n",
    "    A = 1 - R_TE - T_TE\n",
    "    absorption_results[i,:] = A\n",
    "    solar_absorption = onp.trapezoid(A * photon_flux, wavelengths) / total_photons\n",
    "    solar_absorption_results.append(solar_absorption)\n",
    "\n",
    "solar_absorption_results = onp.array(solar_absorption_results)\n",
    "\n",
    "silicon_thicknesses_micron = jll_utils_units.convert_m_to_um(silicon_thicknesses)\n",
    "\n",
    "plt.figure(figsize=(8, 6))\n",
    "plt.plot(silicon_thicknesses_micron, solar_absorption_results, label='Solar Absorption', color=\"b\")\n",
    "# plt.plot(energy, A.squeeze(), label=\"Absorption (A)\", color=\"b\")\n",
    "plt.xlabel(\"Silicon Thickness (um)\")\n",
    "plt.ylabel(\"Solar Absorption (A)\")\n",
    "plt.title(\"Solar Absorption vs. Silicon Thickness\")\n",
    "plt.grid(True)\n",
    "\n",
    "X, Y = onp.meshgrid(energy, silicon_thicknesses_micron)\n",
    "plt.figure(figsize=(8, 6))\n",
    "plt.contourf(X, Y, absorption_results, levels=100, cmap = 'jet')\n",
    "plt.colorbar(label='Absorption')\n",
    "plt.xlabel('Energy (eV)')\n",
    "plt.ylabel('Silicon Thickness (µm)')\n",
    "plt.title('Absorption vs. Energy and Silicon Thickness')\n",
    "plt.grid()\n",
    "plt.show()"
   ]
  },
  {
   "cell_type": "markdown",
   "id": "377b972ff62206fc",
   "metadata": {},
   "source": [
    "## Ultrathin silicon example"
   ]
  },
  {
   "cell_type": "markdown",
   "id": "13f9d96097541959",
   "metadata": {},
   "source": [
    "There is interest in using ultrathin silicon for solar cells. Since silicon is an indirect band gap material, a number of approaches have been used to trap light in the silicon and increase absorption.  Here, we simulate the absorption of ultrathin silicon.  The leaky resonance modes in the crystalline silicon films can be observed.\n",
    "\n",
    "[1] B. Wang, T. Gao, Z. Zhou, B. Pafchek, and P. W. Leu, “Frontside scattering structures for enhanced performance in flexible ultrathin crystalline silicon solar cells,” JPE, vol. 8, no. 3, p. 030501, Sep. 2018, doi: 10.1117/1.JPE.8.030501\n",
    "https://doi.org/10.1117/1.JPE.8.030501\n",
    "\n",
    "[2] B. Wang, T. Gao, and P. W Leu, “Broadband light absorption enhancement in ultrathin film crystalline silicon solar cells with high index of refraction nanosphere arrays,” Nano Energy, vol. 19, pp. 471–475, Jan. 2016, doi: 10.1016/j.nanoen.2015.10.039\n",
    "https://doi.org/10.1016/j.nanoen.2015.10.039\n",
    "\n",
    "[3] T. Gao, B. Wang, and P. W. Leu, “Plasmonic nanomesh sandwiches for ultrathin film silicon solar cells,” J. Opt., vol. 19, no. 2, p. 025901, Dec. 2016, doi: 10.1088/2040-8986/19/2/025901\n",
    "https://doi.org/10.1088/2040-8986/19/2/025901\n",
    "\n"
   ]
  },
  {
   "cell_type": "code",
   "execution_count": null,
   "id": "373d223f9ac71432",
   "metadata": {
    "ExecuteTime": {
     "end_time": "2025-02-18T21:10:26.462355Z",
     "start_time": "2025-02-18T21:10:22.983423Z"
    }
   },
   "outputs": [],
   "source": [
    "silicon_thicknesses_nm = jnp.linspace(100.0, 1000.0, 100)\n",
    "silicon_thicknesses = jll_utils_units.convert_nm_to_m(silicon_thicknesses_nm)\n",
    "\n",
    "materials = onp.array([\"Air\", \"cSi\", \"PEC\"])\n",
    "absorption_spectra = []\n",
    "\n",
    "wavelengths = jnp.linspace(280e-9, 1200e-9, 1000)\n",
    "frequencies = scic.c / wavelengths\n",
    "irradiance = utils_spectra.get_irradiance('AM1p5G', wavelengths)\n",
    "\n",
    "photon_flux = (irradiance * wavelengths) / (scic.h * scic.c)\n",
    "energy = utils_units.get_light_speed() * scic.h / wavelengths / scic.e\n",
    "\n",
    "n_k = utils_materials.get_n_k(materials, frequencies)\n",
    "\n",
    "wavelengths_all = jnp.linspace(280e-9, 4000e-9, 2000)\n",
    "irradiance_all = utils_spectra.get_irradiance('AM1p5G', wavelengths_all)\n",
    "photon_flux_all = (irradiance_all * wavelengths_all)/(scic.h*scic.c)\n",
    "total_photons = onp.trapezoid(photon_flux_all, wavelengths_all)\n",
    "\n",
    "solar_absorption_results = []\n",
    "\n",
    "for i, thickness_si in enumerate(silicon_thicknesses):\n",
    "    thickness_materials = [0, thickness_si, 0]\n",
    "    thicknesses = jnp.array(thickness_materials)\n",
    "\n",
    "    R_TE, T_TE, R_TM, T_TM = jll.stackrt(n_k, thicknesses, frequencies, 0.0)\n",
    "    A = 1 - R_TE - T_TE\n",
    "    absorption_spectra.append(onp.array(A))\n",
    "    solar_absorption = onp.trapezoid(A * photon_flux, wavelengths)/total_photons\n",
    "    solar_absorption_results.append(solar_absorption)\n",
    "\n",
    "solar_absorption_results = onp.array(solar_absorption_results)\n",
    "\n",
    "\n",
    "# Convert the list of spectra into a 2D NumPy array.\n",
    "# The resulting array has shape: (num_silicon_thicknesses, num_wavelengths)\n",
    "absorption_spectra = onp.array(absorption_spectra).squeeze()\n",
    "\n",
    "# plot silicon thickness\n",
    "silicon_thicknesses_nm = jll_utils_units.convert_m_to_nm(silicon_thicknesses)\n",
    "\n",
    "plt.figure(figsize=(8, 6))\n",
    "plt.plot(silicon_thicknesses_nm, solar_absorption_results, label='Solar Absorption', color=\"b\")\n",
    "# plt.plot(energy, A.squeeze(), label=\"Absorption (A)\", color=\"b\")\n",
    "plt.xlabel(\"Silicon Thickness (nm)\")\n",
    "plt.ylabel(\"Solar Absorption (A)\")\n",
    "plt.title(\"Solar Absorption vs. Silicon Thickness\")\n",
    "plt.grid(True)\n",
    "\n",
    "\n",
    "# Plot the absorption map as a function of wavelength and silicon thickness.\n",
    "plt.figure(figsize=(8, 6))\n",
    "X, Y = onp.meshgrid(onp.array(jll_utils_units.convert_m_to_nm(wavelengths)), silicon_thicknesses_nm)\n",
    "pcm = plt.pcolormesh(X, Y, absorption_spectra, shading='auto', cmap='jet')\n",
    "plt.colorbar(pcm, label=\"Absorption\")\n",
    "plt.xlabel(\"Wavelength (nm)\")\n",
    "plt.ylabel(\"Silicon Thickness (nm)\")\n",
    "plt.title(\"Absorption Spectrum for Si at Normal Incidence\")\n",
    "plt.tight_layout()\n",
    "plt.show()"
   ]
  }
 ],
 "metadata": {
  "kernelspec": {
   "display_name": "Python 3 (ipykernel)",
   "language": "python",
   "name": "python3"
  },
  "language_info": {
   "codemirror_mode": {
    "name": "ipython",
    "version": 3
   },
   "file_extension": ".py",
   "mimetype": "text/x-python",
   "name": "python",
   "nbconvert_exporter": "python",
   "pygments_lexer": "ipython3",
   "version": "3.11.9"
  }
 },
 "nbformat": 4,
 "nbformat_minor": 5
}
