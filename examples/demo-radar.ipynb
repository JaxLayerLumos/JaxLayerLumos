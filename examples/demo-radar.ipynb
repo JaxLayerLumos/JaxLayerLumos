{
 "cells": [
  {
   "cell_type": "code",
   "execution_count": 1,
   "metadata": {},
   "outputs": [],
   "source": [
    "import matplotlib.pyplot as plt\n",
    "import jax.numpy as jnp\n",
    "import numpy as np\n",
    "\n",
    "from jaxlayerlumos import stackrt_eps_mu\n",
    "from jaxlayerlumos import utils_materials"
   ]
  },
  {
   "cell_type": "code",
   "execution_count": 4,
   "metadata": {},
   "outputs": [
    {
     "name": "stdout",
     "output_type": "stream",
     "text": [
      "Materials stack: ['Air', '14', '8', '4', '4', '4', 'PEC']\n",
      "Layer thicknesses (m): [0.0, 0.000966, 0.001002, 0.0011819999999999999, 0.000984, 0.00138, 0.0]\n",
      "frequencies:  [2.00000000e+08 2.18181818e+08 2.36363636e+08 2.54545455e+08\n",
      " 2.72727273e+08 2.90909091e+08 3.09090909e+08 3.27272727e+08\n",
      " 3.45454545e+08 3.63636364e+08 3.81818182e+08 4.00000000e+08\n",
      " 4.18181818e+08 4.36363636e+08 4.54545455e+08 4.72727273e+08\n",
      " 4.90909091e+08 5.09090909e+08 5.27272727e+08 5.45454545e+08\n",
      " 5.63636364e+08 5.81818182e+08 6.00000000e+08 6.18181818e+08\n",
      " 6.36363636e+08 6.54545455e+08 6.72727273e+08 6.90909091e+08\n",
      " 7.09090909e+08 7.27272727e+08 7.45454545e+08 7.63636364e+08\n",
      " 7.81818182e+08 8.00000000e+08 8.18181818e+08 8.36363636e+08\n",
      " 8.54545455e+08 8.72727273e+08 8.90909091e+08 9.09090909e+08\n",
      " 9.27272727e+08 9.45454545e+08 9.63636364e+08 9.81818182e+08\n",
      " 1.00000000e+09 1.01818182e+09 1.03636364e+09 1.05454545e+09\n",
      " 1.07272727e+09 1.09090909e+09 1.10909091e+09 1.12727273e+09\n",
      " 1.14545455e+09 1.16363636e+09 1.18181818e+09 1.20000000e+09\n",
      " 1.21818182e+09 1.23636364e+09 1.25454545e+09 1.27272727e+09\n",
      " 1.29090909e+09 1.30909091e+09 1.32727273e+09 1.34545455e+09\n",
      " 1.36363636e+09 1.38181818e+09 1.40000000e+09 1.41818182e+09\n",
      " 1.43636364e+09 1.45454545e+09 1.47272727e+09 1.49090909e+09\n",
      " 1.50909091e+09 1.52727273e+09 1.54545455e+09 1.56363636e+09\n",
      " 1.58181818e+09 1.60000000e+09 1.61818182e+09 1.63636364e+09\n",
      " 1.65454545e+09 1.67272727e+09 1.69090909e+09 1.70909091e+09\n",
      " 1.72727273e+09 1.74545455e+09 1.76363636e+09 1.78181818e+09\n",
      " 1.80000000e+09 1.81818182e+09 1.83636364e+09 1.85454545e+09\n",
      " 1.87272727e+09 1.89090909e+09 1.90909091e+09 1.92727273e+09\n",
      " 1.94545455e+09 1.96363636e+09 1.98181818e+09 2.00000000e+09]\n"
     ]
    },
    {
     "ename": "ValueError",
     "evalue": "could not convert string to float: 'wl'",
     "output_type": "error",
     "traceback": [
      "\u001b[1;31m---------------------------------------------------------------------------\u001b[0m",
      "\u001b[1;31mValueError\u001b[0m                                Traceback (most recent call last)",
      "Cell \u001b[1;32mIn[4], line 26\u001b[0m\n\u001b[0;32m     23\u001b[0m \u001b[38;5;28mprint\u001b[39m(\u001b[38;5;124m\"\u001b[39m\u001b[38;5;124mLayer thicknesses (m):\u001b[39m\u001b[38;5;124m\"\u001b[39m, thicknesses)\n\u001b[0;32m     25\u001b[0m \u001b[38;5;28mprint\u001b[39m(\u001b[38;5;124m\"\u001b[39m\u001b[38;5;124mfrequencies: \u001b[39m\u001b[38;5;124m\"\u001b[39m, frequencies)\n\u001b[1;32m---> 26\u001b[0m eps_stack, mu_stack \u001b[38;5;241m=\u001b[39m \u001b[43mutils_materials\u001b[49m\u001b[38;5;241;43m.\u001b[39;49m\u001b[43mget_eps_mu\u001b[49m\u001b[43m(\u001b[49m\u001b[43mmaterials\u001b[49m\u001b[43m,\u001b[49m\u001b[43m \u001b[49m\u001b[43mfrequencies\u001b[49m\u001b[43m)\u001b[49m\n\u001b[0;32m     28\u001b[0m \u001b[38;5;66;03m# Compute reflection and transmission coefficients at normal incidence (0°)\u001b[39;00m\n\u001b[0;32m     29\u001b[0m R_TE, T_TE, R_TM, T_TM \u001b[38;5;241m=\u001b[39m stackrt_eps_mu(eps_stack, mu_stack, thicknesses, frequencies, inc_angle)\n",
      "File \u001b[1;32mc:\\Users\\Li_mi\\miniconda3\\envs\\jaxlayerlumos\\Lib\\site-packages\\jaxlayerlumos\\utils_materials.py:272\u001b[0m, in \u001b[0;36mget_eps_mu\u001b[1;34m(materials, frequencies)\u001b[0m\n\u001b[0;32m    269\u001b[0m mu_r \u001b[38;5;241m=\u001b[39m jnp\u001b[38;5;241m.\u001b[39mones((num_layers, num_frequencies), dtype\u001b[38;5;241m=\u001b[39mjnp\u001b[38;5;241m.\u001b[39mcomplex128)\n\u001b[0;32m    271\u001b[0m \u001b[38;5;28;01mfor\u001b[39;00m ind, material \u001b[38;5;129;01min\u001b[39;00m \u001b[38;5;28menumerate\u001b[39m(materials):\n\u001b[1;32m--> 272\u001b[0m     eps_r_real, eps_r_imag, mu_r_real, mu_r_imag \u001b[38;5;241m=\u001b[39m \u001b[43minterpolate_material_eps_mu\u001b[49m\u001b[43m(\u001b[49m\n\u001b[0;32m    273\u001b[0m \u001b[43m        \u001b[49m\u001b[43mmaterial\u001b[49m\u001b[43m,\u001b[49m\u001b[43m \u001b[49m\u001b[43mfrequencies\u001b[49m\n\u001b[0;32m    274\u001b[0m \u001b[43m    \u001b[49m\u001b[43m)\u001b[49m\n\u001b[0;32m    275\u001b[0m     eps_r \u001b[38;5;241m=\u001b[39m eps_r\u001b[38;5;241m.\u001b[39mat[ind \u001b[38;5;241m+\u001b[39m \u001b[38;5;241m1\u001b[39m, :]\u001b[38;5;241m.\u001b[39mset(eps_r_real \u001b[38;5;241m+\u001b[39m \u001b[38;5;241m1\u001b[39mj \u001b[38;5;241m*\u001b[39m eps_r_imag)\n\u001b[0;32m    276\u001b[0m     mu_r \u001b[38;5;241m=\u001b[39m mu_r\u001b[38;5;241m.\u001b[39mat[ind \u001b[38;5;241m+\u001b[39m \u001b[38;5;241m1\u001b[39m, :]\u001b[38;5;241m.\u001b[39mset(mu_r_real \u001b[38;5;241m+\u001b[39m \u001b[38;5;241m1\u001b[39mj \u001b[38;5;241m*\u001b[39m mu_r_imag)\n",
      "File \u001b[1;32mc:\\Users\\Li_mi\\miniconda3\\envs\\jaxlayerlumos\\Lib\\site-packages\\jaxlayerlumos\\utils_materials.py:190\u001b[0m, in \u001b[0;36minterpolate_material_eps_mu\u001b[1;34m(material, frequencies)\u001b[0m\n\u001b[0;32m    187\u001b[0m \u001b[38;5;28;01massert\u001b[39;00m \u001b[38;5;28misinstance\u001b[39m(frequencies, jnp\u001b[38;5;241m.\u001b[39mndarray)\n\u001b[0;32m    188\u001b[0m \u001b[38;5;28;01massert\u001b[39;00m frequencies\u001b[38;5;241m.\u001b[39mndim \u001b[38;5;241m==\u001b[39m \u001b[38;5;241m1\u001b[39m\n\u001b[1;32m--> 190\u001b[0m data_eps_r, data_mu_r \u001b[38;5;241m=\u001b[39m \u001b[43mload_material_f_ghz\u001b[49m\u001b[43m(\u001b[49m\u001b[43mmaterial\u001b[49m\u001b[43m)\u001b[49m\n\u001b[0;32m    192\u001b[0m eps_r_real \u001b[38;5;241m=\u001b[39m interpolate(jnp\u001b[38;5;241m.\u001b[39mreal(data_eps_r), frequencies)\n\u001b[0;32m    193\u001b[0m eps_r_imag \u001b[38;5;241m=\u001b[39m interpolate(jnp\u001b[38;5;241m.\u001b[39mimag(data_eps_r), frequencies)\n",
      "File \u001b[1;32mc:\\Users\\Li_mi\\miniconda3\\envs\\jaxlayerlumos\\Lib\\site-packages\\jaxlayerlumos\\utils_materials.py:49\u001b[0m, in \u001b[0;36mload_material_f_ghz\u001b[1;34m(material)\u001b[0m\n\u001b[0;32m     47\u001b[0m     start_mu \u001b[38;5;241m=\u001b[39m \u001b[38;5;28;01mTrue\u001b[39;00m\n\u001b[0;32m     48\u001b[0m \u001b[38;5;28;01melse\u001b[39;00m:\n\u001b[1;32m---> 49\u001b[0m     f_GHz, value \u001b[38;5;241m=\u001b[39m \u001b[38;5;28mmap\u001b[39m(\u001b[38;5;28mfloat\u001b[39m, row)\n\u001b[0;32m     51\u001b[0m     \u001b[38;5;28;01mif\u001b[39;00m start_eps \u001b[38;5;129;01mand\u001b[39;00m \u001b[38;5;129;01mnot\u001b[39;00m start_mu:\n\u001b[0;32m     52\u001b[0m         data_mu\u001b[38;5;241m.\u001b[39mappend([f_Ghz, value])\n",
      "\u001b[1;31mValueError\u001b[0m: could not convert string to float: 'wl'"
     ]
    }
   ],
   "source": [
    "\n",
    "# Metadata\n",
    "freq_range = (0.2, 2.0)  # GHz\n",
    "inc_angle = 0.0         # degrees\n",
    "\n",
    "# Frequency grid: use the metadata frequency range (converted to Hz)\n",
    "frequencies = jnp.linspace(freq_range[0]*1e9, freq_range[1]*1e9, 100)\n",
    "freq_ghz = np.array(frequencies) / 1e9  # for plotting in GHz\n",
    "\n",
    "# Design configuration (first design line from CSV)\n",
    "# Materials as given (first 5 numbers from CSV)\n",
    "materials_data = [\"14\", \"8\", \"4\", \"4\", \"4\"]\n",
    "# Thicknesses in mm (next 5 numbers from CSV)\n",
    "thicknesses_mm = [0.966, 1.002, 1.182, 0.984, 1.380]\n",
    "# Reference reflection value (dB) provided for comparison\n",
    "ref_R_db = -32.52\n",
    "\n",
    "# Augment the materials list with ambient \"Air\" and termination \"PEC\"\n",
    "materials = [\"Air\"] + materials_data + [\"PEC\"]\n",
    "# Convert thicknesses from mm to m and pad with 0 (for air and PEC)\n",
    "thicknesses = [0.0] + [x * 1e-3 for x in thicknesses_mm] + [0.0]\n",
    "\n",
    "print(\"Materials stack:\", materials)\n",
    "print(\"Layer thicknesses (m):\", thicknesses)\n",
    "\n",
    "print(\"frequencies: \", frequencies)\n",
    "eps_stack, mu_stack = utils_materials.get_eps_mu(materials, frequencies)\n",
    "\n",
    "# Compute reflection and transmission coefficients at normal incidence (0°)\n",
    "R_TE, T_TE, R_TM, T_TM = stackrt_eps_mu(eps_stack, mu_stack, thicknesses, frequencies, inc_angle)\n",
    "\n",
    "# Average the TE and TM polarizations\n",
    "R_linear = (R_TE + R_TM) / 2.0\n",
    "R_db = 10 * jnp.log10(R_linear).squeeze()  # Reflection in dB\n",
    "\n",
    "# Identify the maximum reflection within the frequency grid\n",
    "idx_max = np.argmax(np.array(R_db))\n",
    "max_R_db = R_db[idx_max]\n",
    "max_freq = freq_ghz[idx_max]\n",
    "print(f\"Maximum Reflection: {max_R_db:.2f} dB at {max_freq:.2f} GHz (Reference: {ref_R_db} dB)\")\n",
    "\n",
    "# --- Plotting ---\n",
    "plt.semilogx(freq_ghz, np.array(R_db), label=\"Reflection (dB)\")\n",
    "plt.xlabel(\"Frequency (GHz)\")\n",
    "plt.ylabel(\"Reflection (dB)\")\n",
    "plt.title(\"RF Reflection vs Frequency for Hard-Coded Design\")\n",
    "plt.grid(True)\n",
    "plt.legend()\n",
    "plt.tight_layout()\n",
    "plt.show()\n",
    "\n"
   ]
  }
 ],
 "metadata": {
  "kernelspec": {
   "display_name": "jaxlayerlumos",
   "language": "python",
   "name": "python3"
  },
  "language_info": {
   "codemirror_mode": {
    "name": "ipython",
    "version": 3
   },
   "file_extension": ".py",
   "mimetype": "text/x-python",
   "name": "python",
   "nbconvert_exporter": "python",
   "pygments_lexer": "ipython3",
   "version": "3.12.4"
  }
 },
 "nbformat": 4,
 "nbformat_minor": 2
}
