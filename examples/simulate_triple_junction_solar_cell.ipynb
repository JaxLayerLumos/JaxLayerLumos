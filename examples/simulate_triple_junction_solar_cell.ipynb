{
 "cells": [
  {
   "metadata": {},
   "cell_type": "markdown",
   "source": "# Triple Junction Solar Cells",
   "id": "bfa58d205cbed660"
  },
  {
   "metadata": {},
   "cell_type": "markdown",
   "source": "Triple junction solar cells consist of GaInP, GaAs, and then Ge for the bottom layer.",
   "id": "f7ee6fba352f8a07"
  },
  {
   "metadata": {
    "ExecuteTime": {
     "end_time": "2025-02-11T20:57:48.893789Z",
     "start_time": "2025-02-11T20:57:48.103100Z"
    }
   },
   "cell_type": "code",
   "source": [
    "import jax.numpy as jnp\n",
    "import numpy as onp\n",
    "import scipy.constants as scic\n",
    "\n",
    "import matplotlib.pyplot as plt\n",
    "\n",
    "from jaxlayerlumos import stackrt\n",
    "from jaxlayerlumos import utils_materials\n",
    "from jaxlayerlumos import utils_spectra\n",
    "\n",
    "from jaxlayerlumos import utils_position\n",
    "\n",
    "from jaxlayerlumos import utils_units"
   ],
   "id": "2fe9ca5e3cc856be",
   "outputs": [],
   "execution_count": 1
  },
  {
   "metadata": {
    "ExecuteTime": {
     "end_time": "2025-02-11T20:59:33.733409Z",
     "start_time": "2025-02-11T20:59:33.564175Z"
    }
   },
   "cell_type": "code",
   "source": [
    "wavelengths = jnp.linspace(280e-9, 2000e-9, 1000)\n",
    "frequencies = scic.c / wavelengths\n",
    "\n",
    "materials = onp.array([\"Air\", \"GaInP\", \"GaAs\", \"Ge\", \"PEC\"])\n",
    "thickness_materials = [0, 1e-6, 3e-6, 200e-6, 0]\n",
    "\n",
    "thicknesses = jnp.array(thickness_materials)\n",
    "n_k = utils_materials.get_n_k(materials, frequencies)\n",
    "theta_inc = 0\n",
    "# We have to also get the coefficients back\n",
    "R_TE, T_TE, R_TM, T_TM, results_coeffs = stackrt(\n",
    "        n_k, thicknesses, frequencies, theta_inc, return_coeffs = True\n",
    "    )\n",
    "\n",
    "results_coeffs = utils_position.calc_absorption_in_each_layer(\n",
    "    thicknesses, results_coeffs\n",
    ")\n",
    "energy = utils_spectra.convert_wavelengths_to_energy(wavelengths)\n",
    "plt.figure(figsize=(8, 6))\n",
    "\n",
    "for i in range(1, 4): # loop over 3 middle layers\n",
    "    plt.plot(energy, results_coeffs[\"absorption_layer_TE\"][i,:], label=f'Layer {i+1} Absorption')\n",
    "\n",
    "\n",
    "# for i in :\n",
    "#\n",
    "#\n",
    "plt.xlabel(\"Energy (eV)\")\n",
    "# plt.ylabel(\"Absorption (A)\")\n",
    "# plt.title(\"Aluminum Absorption vs. Energy in Aluminum Layer\")\n",
    "# plt.grid(True)\n",
    "results_coeffs[\"absorption_layer_TE\"]\n",
    "\n",
    "# results_coeffs[\"absorption_layer_TE\"][material_silicon_index-1,:]\n",
    "\n",
    "energy = utils_spectra.convert_wavelengths_to_energy(wavelengths)\n"
   ],
   "id": "7d02a44d0fbb476f",
   "outputs": [
    {
     "name": "stderr",
     "output_type": "stream",
     "text": [
      "/Users/pleu/Documents/PaulsAcademicJunk/Proposals/ARL/ARL_AR/Data/Python/JaxLayerLumos/jaxlayerlumos/utils_materials.py:118: UserWarning: Extrapolation detected: Some frequencies are outside the given data range.\n",
      "  warnings.warn(\"Extrapolation detected: Some frequencies are outside the given data range.\", UserWarning)\n"
     ]
    },
    {
     "data": {
      "text/plain": [
       "<Figure size 800x600 with 1 Axes>"
      ],
      "image/png": "[encoded data removed]"
     },
     "metadata": {},
     "output_type": "display_data"
    }
   ],
   "execution_count": 4
  },
  {
   "metadata": {
    "ExecuteTime": {
     "end_time": "2025-02-11T21:00:31.585178Z",
     "start_time": "2025-02-11T21:00:31.567873Z"
    }
   },
   "cell_type": "code",
   "source": "results_coeffs[\"absorption_layer_TE\"]",
   "id": "ee2ff2f65d4cb0e6",
   "outputs": [
    {
     "data": {
      "text/plain": [
       "array([[            nan,             nan,             nan, ...,\n",
       "         1.21888195e+00,  1.21885646e+00,  1.21882784e+00],\n",
       "       [            nan,             nan,             nan, ...,\n",
       "        -2.18884687e-01, -2.18856737e-01, -2.18828034e-01],\n",
       "       [            nan,             nan,             nan, ...,\n",
       "         2.43847106e-06,  2.35768878e-07,  1.64490959e-07],\n",
       "       [            nan,             nan,             nan, ...,\n",
       "                    nan,             nan,             nan],\n",
       "       [            nan,             nan,             nan, ...,\n",
       "                    nan,             nan,             nan]],\n",
       "      shape=(5, 1000))"
      ]
     },
     "execution_count": 5,
     "metadata": {},
     "output_type": "execute_result"
    }
   ],
   "execution_count": 5
  },
  {
   "metadata": {},
   "cell_type": "code",
   "outputs": [],
   "execution_count": null,
   "source": "",
   "id": "46dce72fef183ff2"
  }
 ],
 "metadata": {
  "kernelspec": {
   "display_name": "Python 3",
   "language": "python",
   "name": "python3"
  },
  "language_info": {
   "codemirror_mode": {
    "name": "ipython",
    "version": 2
   },
   "file_extension": ".py",
   "mimetype": "text/x-python",
   "name": "python",
   "nbconvert_exporter": "python",
   "pygments_lexer": "ipython2",
   "version": "2.7.6"
  }
 },
 "nbformat": 4,
 "nbformat_minor": 5
}
